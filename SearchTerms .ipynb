{
 "cells": [
  {
   "cell_type": "markdown",
   "id": "ea13195f",
   "metadata": {},
   "source": [
    "## Name: Alhagie Boye\n",
    "## Title: Search Terms \n",
    "## Date: 09/25/2023"
   ]
  },
  {
   "cell_type": "markdown",
   "id": "83db59c5",
   "metadata": {},
   "source": [
    "# Introduction\n",
    "The purpose of this lab is to familize with data cleaning, search term analytics, and spellchecking. In this lab I create a list of the most popular search terms (tokens) for a given set of search queries. As people are imperfect, they often misspell search terms, so we are using a spell checking library to remove and interpret misspellings to find the actual most popular terms (and not just the most popular and consistently spelled terms). The search terms come from Direct Supply's DSSI eProcurement system.\n",
    "Note: panda and numpy are not use in this lab. This lab will be use to compare the Big O analysis of using panda and numpy with the traditional iteration methods."
   ]
  },
  {
   "cell_type": "code",
   "execution_count": 1,
   "id": "dc08c318",
   "metadata": {},
   "outputs": [],
   "source": [
    "from spellchecker import SpellChecker\n",
    "import csv\n",
    "\n",
    "csv_freq_dict = {}\n",
    "csv_freq_dict_spellchecked = []"
   ]
  },
  {
   "cell_type": "markdown",
   "id": "5c75a079",
   "metadata": {},
   "source": [
    "Imports a CSV file and creates a list of the first item of each row. csv: Name of the CSV file\n",
    "returns A list of the first item of each row of the csv"
   ]
  },
  {
   "cell_type": "code",
   "execution_count": 2,
   "id": "40e3c2e6",
   "metadata": {},
   "outputs": [],
   "source": [
    "def import_csv_list_first_col(csv):\n",
    "    '''\n",
    "    Imports a csv file and returns a list of the first column of the csv file.\n",
    "    '''\n",
    "    temp = []\n",
    "    csv_raw_data = []\n",
    "    i = 0\n",
    "    with open(csv, encoding='utf8') as file:\n",
    "        for line in file:\n",
    "            if i == 1000:\n",
    "                break\n",
    "            temp.append(line.rstrip('\\n').split(','))\n",
    "            i += 1\n",
    "    csv_raw_data = [str(row[0]) for row in temp]\n",
    "    file.closed\n",
    "    return csv_raw_data\n"
   ]
  },
  {
   "cell_type": "markdown",
   "id": "7375770f",
   "metadata": {},
   "source": [
    "Splits a list of strings into a list of individual words. original_list: List to split\n",
    "A list of single word strings"
   ]
  },
  {
   "cell_type": "code",
   "execution_count": 3,
   "id": "632c911e",
   "metadata": {},
   "outputs": [],
   "source": [
    "def split_tokens(original_list):\n",
    "    '''\n",
    "    Splits a list of strings into a list of individual words.\n",
    "    returns a list of individual words.\n",
    "    '''\n",
    "    new_list = []\n",
    "    for item in original_list:\n",
    "        new_list.extend(item.split(\" \"))\n",
    "    return new_list\n"
   ]
  },
  {
   "cell_type": "markdown",
   "id": "c204a372",
   "metadata": {},
   "source": [
    "This function replaces web spaces with a regular space from a string token\n",
    "\n",
    "token: String token\n",
    "returns A string without web spaces"
   ]
  },
  {
   "cell_type": "code",
   "execution_count": 4,
   "id": "de12dd55",
   "metadata": {},
   "outputs": [],
   "source": [
    "def remove_web_spaces(token):\n",
    "    token.replace(\"%20\", \" \")\n",
    "    return token"
   ]
  },
  {
   "cell_type": "markdown",
   "id": "323f84a7",
   "metadata": {},
   "source": [
    "This function removes non-alphabet characters from a string token\n",
    "\n",
    "token: String token\n",
    "Returns: A string with only alphabet characters"
   ]
  },
  {
   "cell_type": "code",
   "execution_count": 5,
   "id": "e6cef1df",
   "metadata": {},
   "outputs": [],
   "source": [
    "def remove_non_alphabet(token):\n",
    "    '''\n",
    "    Removes all non-alphabet characters from a string.\n",
    "    e.g. \"hello!\" -> \"hello\"\n",
    "    '''\n",
    "    fixed_token = \"\"\n",
    "    for char in token:\n",
    "        if char.isalpha() or char == \" \":\n",
    "            fixed_token = fixed_token + char\n",
    "    return fixed_token"
   ]
  },
  {
   "cell_type": "markdown",
   "id": "336dc33e",
   "metadata": {},
   "source": [
    "This function creates a frequency dictionary given a string list where the key is a string and the key-value is how many times the string appeared in the list.\n",
    "\n",
    "input_list: String list\n",
    "Returns: A frequency dictionary"
   ]
  },
  {
   "cell_type": "code",
   "execution_count": 6,
   "id": "8f91c8fd",
   "metadata": {},
   "outputs": [],
   "source": [
    "def list_to_freq_dict(input_list):\n",
    "    '''\n",
    "    Takes a list and returns a frequency dictionary of the list.\n",
    "    returns: dictionary\n",
    "    '''\n",
    "    freq_dict = {}\n",
    "    for i in input_list:\n",
    "        freq_dict[i] = input_list.count(i)\n",
    "    return freq_dict"
   ]
  },
  {
   "cell_type": "markdown",
   "id": "3e64b2c5",
   "metadata": {},
   "source": [
    "This function creates a sorted frequency list given a frequency dictionary\n",
    "\n",
    "freq_dict: Frequnecy dictionary\n",
    "Returns: A 2d list where the first row is frequency and the second row is the string"
   ]
  },
  {
   "cell_type": "code",
   "execution_count": 7,
   "id": "9fed652c",
   "metadata": {},
   "outputs": [],
   "source": [
    "def sort_freq_dict(freq_dict):\n",
    "    '''\n",
    "    Sorts a frequency dictionary from most frequent to least frequent.\n",
    "    Returns a list of tuples in the format (frequency, word).\n",
    "    '''\n",
    "    sorted_list = [(freq_dict[key], key) for key in freq_dict]\n",
    "    sorted_list.sort()\n",
    "    sorted_list.reverse()\n",
    "    return sorted_list"
   ]
  },
  {
   "cell_type": "markdown",
   "id": "3d4e80cc",
   "metadata": {},
   "source": [
    "This function creates a spellchecker dictionary where the key is the misspelled word and the key-value is the most likely corrected word\n",
    "\n",
    "input_list: List of misspelled words\n",
    "Returns: A spellecheck dictionary"
   ]
  },
  {
   "cell_type": "code",
   "execution_count": 8,
   "id": "5bb5aa15",
   "metadata": {},
   "outputs": [],
   "source": [
    "def spellcheck_dict_init(input_list):\n",
    "    '''\n",
    "    this function takes a list and returns a dictionary of the input list\n",
    "    with each value spellchecked.\n",
    "    '''\n",
    "    spell = SpellChecker(distance=1)\n",
    "    spellchecked_dict = {}\n",
    "    for word in input_list:\n",
    "        spellchecked_dict[word] = spell.correction(word)\n",
    "    return spellchecked_dict"
   ]
  },
  {
   "cell_type": "markdown",
   "id": "f6caee07",
   "metadata": {},
   "source": [
    "This function given a misspelled string token, return the most likely corrected word\n",
    "\n",
    "token: Misspelled token\n",
    "Returns: A correctly spelled word"
   ]
  },
  {
   "cell_type": "code",
   "execution_count": 9,
   "id": "b8bc6e1e",
   "metadata": {},
   "outputs": [],
   "source": [
    "def spellcheck_token(token):\n",
    "    '''\n",
    "    This function given a misspelled string token, return the most likely corrected word\n",
    "    token: Misspelled token  \n",
    "    Returns: A correctly spelled word\n",
    "    '''\n",
    "    fixed_token = csv_spellcheck_dict[token]\n",
    "    return fixed_token"
   ]
  },
  {
   "cell_type": "markdown",
   "id": "59d76a90",
   "metadata": {},
   "source": [
    "This function creates a csv file from a frequency list\n",
    "\n",
    "input_list: Frequency list\n",
    "returns: NONE"
   ]
  },
  {
   "cell_type": "code",
   "execution_count": 10,
   "id": "819a7448",
   "metadata": {},
   "outputs": [],
   "source": [
    "def list_to_csv(input_list):\n",
    "    '''\n",
    "    Takes a list of tuples and creates a csv file with the list of tuples.\n",
    "    '''\n",
    "    fields = [\"Frequency\", \"Word\"]\n",
    "    with open(\"Frequency_of_search_terms.csv\", \"w\", newline=\"\") as file:\n",
    "        write = csv.writer(file)\n",
    "        write.writerow(fields)\n",
    "        write.writerows(input_list)\n",
    "        "
   ]
  },
  {
   "cell_type": "markdown",
   "id": "27d94f88",
   "metadata": {},
   "source": [
    "# Main"
   ]
  },
  {
   "cell_type": "code",
   "execution_count": 11,
   "id": "944eeddf",
   "metadata": {},
   "outputs": [
    {
     "name": "stdout",
     "output_type": "stream",
     "text": [
      "CPU times: total: 0 ns\n",
      "Wall time: 2.11 ms\n"
     ]
    }
   ],
   "source": [
    "# Import csv to search term list\n",
    "%time csv_raw = import_csv_list_first_col(\"searchTerms.csv\")"
   ]
  },
  {
   "cell_type": "code",
   "execution_count": 12,
   "id": "f9568c68",
   "metadata": {},
   "outputs": [
    {
     "name": "stdout",
     "output_type": "stream",
     "text": [
      "CPU times: total: 0 ns\n",
      "Wall time: 1 ms\n"
     ]
    }
   ],
   "source": [
    "%%time\n",
    "# This section of code filters the data from the csv file by removing non-alphabet characters, \n",
    "# replacing web spaces with spaces, and splitting search terms by word\n",
    "\n",
    "csv_filtered = []\n",
    "for i in range(len(csv_raw)):\n",
    "    temp = remove_non_alphabet(remove_web_spaces(csv_raw[i]))\n",
    "    csv_filtered.append(temp)"
   ]
  },
  {
   "cell_type": "code",
   "execution_count": 13,
   "id": "7768ec8a",
   "metadata": {},
   "outputs": [
    {
     "name": "stdout",
     "output_type": "stream",
     "text": [
      "CPU times: total: 0 ns\n",
      "Wall time: 0 ns\n"
     ]
    }
   ],
   "source": [
    "%time csv_filtered = split_tokens(csv_filtered)"
   ]
  },
  {
   "cell_type": "code",
   "execution_count": 14,
   "id": "c9b6bd60",
   "metadata": {},
   "outputs": [
    {
     "name": "stdout",
     "output_type": "stream",
     "text": [
      "CPU times: total: 0 ns\n",
      "Wall time: 1 ms\n"
     ]
    }
   ],
   "source": [
    "%%time \n",
    "# This section removes all blank search terms. Blank search terms are generated from the above section of code\n",
    "# due to the removal of non-alphabet characters.\n",
    "csv_fixed = []\n",
    "for word in csv_filtered:\n",
    "    if len(word) != 0:\n",
    "        csv_fixed.append(word)"
   ]
  },
  {
   "cell_type": "code",
   "execution_count": 15,
   "id": "ed755939",
   "metadata": {},
   "outputs": [
    {
     "name": "stdout",
     "output_type": "stream",
     "text": [
      "CPU times: total: 15.6 ms\n",
      "Wall time: 14.4 ms\n",
      "CPU times: total: 0 ns\n",
      "Wall time: 1.07 ms\n"
     ]
    }
   ],
   "source": [
    "# This section of code creates a frequency dictionary of the filtered data.\n",
    "# A list is also created to sort the frequency dictionary from most frequent to least.\n",
    "%time csv_freq_dict = list_to_freq_dict(csv_fixed)\n",
    "%time csv_freq_list = sort_freq_dict(csv_freq_dict)"
   ]
  },
  {
   "cell_type": "code",
   "execution_count": 16,
   "id": "08611a27",
   "metadata": {},
   "outputs": [
    {
     "name": "stdout",
     "output_type": "stream",
     "text": [
      "CPU times: total: 109 ms\n",
      "Wall time: 104 ms\n"
     ]
    }
   ],
   "source": [
    "%%time\n",
    "# This section of code creates a spellchecked version of the fully filtered search terms list.\n",
    "# Additionally it creates a frequency dictionary and a sorted list of the most frequent to least\n",
    "csv_spellcheck_dict = spellcheck_dict_init(csv_fixed)\n",
    "csv_spellchecked = []\n",
    "for word in csv_fixed:\n",
    "    csv_spellchecked.append(spellcheck_token(word))"
   ]
  },
  {
   "cell_type": "code",
   "execution_count": 17,
   "id": "b1a6b60e",
   "metadata": {},
   "outputs": [
    {
     "name": "stdout",
     "output_type": "stream",
     "text": [
      "CPU times: total: 15.6 ms\n",
      "Wall time: 14 ms\n",
      "CPU times: total: 0 ns\n",
      "Wall time: 0 ns\n"
     ]
    }
   ],
   "source": [
    "%time csv_spellcheck_dict = list_to_freq_dict(csv_spellchecked)\n",
    "%time csv_spellcheck_freq_list = sort_freq_dict(csv_spellcheck_dict)"
   ]
  },
  {
   "cell_type": "code",
   "execution_count": 18,
   "id": "1ad9067f",
   "metadata": {},
   "outputs": [
    {
     "name": "stdout",
     "output_type": "stream",
     "text": [
      "CPU times: total: 0 ns\n",
      "Wall time: 2 ms\n"
     ]
    }
   ],
   "source": [
    "# Creates a csv file of the spellchecked search term frequency list from most frequent to least\n",
    "%time list_to_csv(csv_spellcheck_freq_list)"
   ]
  },
  {
   "cell_type": "markdown",
   "id": "d0c84029",
   "metadata": {},
   "source": [
    "# Conclusion"
   ]
  },
  {
   "cell_type": "markdown",
   "id": "f9b01667",
   "metadata": {},
   "source": [
    "*** The most frequent search tokens for the non-spellchecked data is food items like bacon, milk, chicken, beef. Bacon by far has the most hits with 459, followed by milk at 180 and chicken at 168. This is most likely due to the American breakfast having bacon as one of its components, additionally bacon is the most enjoyed bacon item so this makes sense. Food being the primarily searched items is logical as humans require a large amount of food on a daily basis.***"
   ]
  },
  {
   "cell_type": "markdown",
   "id": "ac690668",
   "metadata": {},
   "source": [
    "The spellchecked data in comparison to the original for the most part is the same. Some items saw a slight increase in frequency such as Juice increasing from 131 to 132 when using the spellchecked data. This isn't a surprise as people for the most part can correctly type the name of an item, I hypothesize that the more complex terms will see a much higher increase in hits due to the nature of the spelling."
   ]
  },
  {
   "cell_type": "markdown",
   "id": "7a22523f",
   "metadata": {},
   "source": [
    "The spellchecked data in comparison to the original for the most part is the same. Some items saw a slight increase in frequency such as Juice increasing from 131 to 132 when using the spellchecked data. This isn't a surprise as people for the most part can correctly type the name of an item, I hypothesize that the more complex terms will see a much higher increase in hits due to the nature of the spelling."
   ]
  },
  {
   "cell_type": "markdown",
   "id": "462bfac2",
   "metadata": {},
   "source": [
    "## Longest-running cell"
   ]
  },
  {
   "cell_type": "markdown",
   "id": "e71d56d6",
   "metadata": {},
   "source": [
    "The longest runing method is the list_to_freq_dict due to the count() method iterating through each item in the list. This is an O(n^2) operation due to each element in the list iterating through the entire list. If the list is 10x bigger it would take 100 times longer and at 100x it would take 10000 times longer."
   ]
  }
 ],
 "metadata": {
  "kernelspec": {
   "display_name": "Python 3 (ipykernel)",
   "language": "python",
   "name": "python3"
  },
  "language_info": {
   "codemirror_mode": {
    "name": "ipython",
    "version": 3
   },
   "file_extension": ".py",
   "mimetype": "text/x-python",
   "name": "python",
   "nbconvert_exporter": "python",
   "pygments_lexer": "ipython3",
   "version": "3.11.4"
  }
 },
 "nbformat": 4,
 "nbformat_minor": 5
}
